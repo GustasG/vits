{
 "cells": [
  {
   "cell_type": "code",
   "execution_count": null,
   "metadata": {},
   "outputs": [],
   "source": [
    "import IPython.display as ipd\n",
    "\n",
    "import torch\n",
    "\n",
    "from model import commons\n",
    "from params import Params\n",
    "from text.convert import text_to_sequence\n",
    "from model.synthesizer import SynthesizerTrn\n",
    "from utils.checkpoint import load_checkpoint"
   ]
  },
  {
   "cell_type": "code",
   "execution_count": null,
   "metadata": {},
   "outputs": [],
   "source": [
    "def get_text(text: str, text_cleaners: list[str], language: str):\n",
    "    text_norm = text_to_sequence(text, text_cleaners, language)\n",
    "    text_norm = commons.intersperse(text_norm, 0)\n",
    "    text_norm = torch.LongTensor(text_norm)\n",
    "\n",
    "    return text_norm"
   ]
  },
  {
   "cell_type": "code",
   "execution_count": null,
   "metadata": {},
   "outputs": [],
   "source": [
    "params = Params.parse_file('files/configs/lt.json')\n",
    "\n",
    "net_g = SynthesizerTrn.from_params(params)\n",
    "_ = net_g.eval()"
   ]
  },
  {
   "cell_type": "code",
   "execution_count": null,
   "metadata": {},
   "outputs": [],
   "source": [
    "load_checkpoint('G_105000.pth', net_g, None)"
   ]
  },
  {
   "cell_type": "code",
   "execution_count": null,
   "metadata": {},
   "outputs": [],
   "source": [
    "text = 'Penktãdienio nãktį daũg kur̃ trumpaĩ palìs'\n",
    "# text = 'Gramãtiškai veiksmãžodis dẽrinamas sù veiksniù'\n",
    "# text = 'màno var̃das Gãbija'\n",
    "# text = 'Ar̃ nóri eĩti sù manimì draugè'\n",
    "\n",
    "stn_tst = get_text(text, params.data.text_cleaners, params.data.language)\n",
    "\n",
    "with torch.inference_mode():\n",
    "    x_tst = stn_tst.unsqueeze(0)\n",
    "    x_tst_lengths = torch.LongTensor([stn_tst.size(0)])\n",
    "    audio = net_g.infer(x_tst, x_tst_lengths, noise_scale=0.667, noise_scale_w=0.5, length_scale=1.0)[0][0,0]\n",
    "\n",
    "ipd.display(ipd.Audio(audio.data.float().numpy(), rate=params.data.sampling_rate, normalize=False))"
   ]
  }
 ],
 "metadata": {
  "kernelspec": {
   "display_name": "course-work",
   "language": "python",
   "name": "python3"
  },
  "language_info": {
   "codemirror_mode": {
    "name": "ipython",
    "version": 3
   },
   "file_extension": ".py",
   "mimetype": "text/x-python",
   "name": "python",
   "nbconvert_exporter": "python",
   "pygments_lexer": "ipython3",
   "version": "3.10.6"
  },
  "orig_nbformat": 4
 },
 "nbformat": 4,
 "nbformat_minor": 2
}

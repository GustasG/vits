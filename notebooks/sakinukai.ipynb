{
 "cells": [
  {
   "cell_type": "code",
   "execution_count": 8,
   "metadata": {},
   "outputs": [],
   "source": [
    "import torch\n",
    "import torchaudio\n",
    "\n",
    "from model import commons\n",
    "from params import Params\n",
    "from text.convert import text_to_sequence\n",
    "from model.synthesizer import SynthesizerTrn\n",
    "from utils.checkpoint import load_checkpoint"
   ]
  },
  {
   "cell_type": "code",
   "execution_count": 5,
   "metadata": {},
   "outputs": [],
   "source": [
    "def read_file(path: str):\n",
    "    with open(path, 'r', encoding='utf-8') as f:\n",
    "        for line in f:\n",
    "            yield line.strip().replace('.', '')\n",
    "\n",
    "def get_text(text: str, text_cleaners: list[str], language: str):\n",
    "    text_norm = text_to_sequence(text, text_cleaners, language)\n",
    "    text_norm = commons.intersperse(text_norm, 0)\n",
    "    text_norm = torch.LongTensor(text_norm)\n",
    "\n",
    "    return text_norm"
   ]
  },
  {
   "cell_type": "code",
   "execution_count": 6,
   "metadata": {},
   "outputs": [],
   "source": [
    "params = Params.parse_file('files/configs/lt.json')\n",
    "\n",
    "net_g = SynthesizerTrn.from_params(params)\n",
    "_ = net_g.eval()\n",
    "\n",
    "_ = load_checkpoint('G_105000.pth', net_g, None)"
   ]
  },
  {
   "cell_type": "code",
   "execution_count": 2,
   "metadata": {},
   "outputs": [],
   "source": [
    "lines = list(read_file('files/datasets/sakinukai/Sakinukai_stressed.txt'))"
   ]
  },
  {
   "cell_type": "code",
   "execution_count": 18,
   "metadata": {},
   "outputs": [],
   "source": [
    "for i, text in enumerate(lines, start=1):\n",
    "    stn_tst = get_text(text, params.data.text_cleaners, params.data.language)\n",
    "\n",
    "    with torch.inference_mode():\n",
    "        x_tst = stn_tst.unsqueeze(0)\n",
    "        x_tst_lengths = torch.LongTensor([stn_tst.size(0)])\n",
    "        audio = net_g.infer(x_tst, x_tst_lengths, noise_scale=0.667, noise_scale_w=0.5, length_scale=1.0)[0][0]\n",
    "\n",
    "    torchaudio.save(f'sakinukai/{i:03d}.wav', audio, params.data.sampling_rate)"
   ]
  }
 ],
 "metadata": {
  "kernelspec": {
   "display_name": "course-work",
   "language": "python",
   "name": "python3"
  },
  "language_info": {
   "codemirror_mode": {
    "name": "ipython",
    "version": 3
   },
   "file_extension": ".py",
   "mimetype": "text/x-python",
   "name": "python",
   "nbconvert_exporter": "python",
   "pygments_lexer": "ipython3",
   "version": "3.10.6"
  },
  "orig_nbformat": 4
 },
 "nbformat": 4,
 "nbformat_minor": 2
}
